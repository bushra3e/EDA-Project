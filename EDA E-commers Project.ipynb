{
 "cells": [
  {
   "cell_type": "markdown",
   "id": "2caa23f7",
   "metadata": {},
   "source": [
    "## E-commerce Exploratory Data Analysis\n",
    "_______________________"
   ]
  },
  {
   "cell_type": "markdown",
   "id": "da0f2d84",
   "metadata": {},
   "source": [
    "## Import libraries\n",
    "___________________"
   ]
  },
  {
   "cell_type": "code",
   "execution_count": 1,
   "id": "bb46ee37",
   "metadata": {},
   "outputs": [],
   "source": [
    "import pandas as pd\n",
    "import numpy as np\n",
    "import matplotlib.pyplot as plt\n",
    "import seaborn as sns\n",
    "import warnings\n",
    "warnings.filterwarnings('ignore')\n",
    "import math \n",
    "import random\n",
    "import sys\n",
    "import pickle\n",
    "from sklearn import datasets\n"
   ]
  },
  {
   "cell_type": "markdown",
   "id": "a14b034e",
   "metadata": {},
   "source": [
    "## Load Data\n",
    "____________"
   ]
  },
  {
   "cell_type": "code",
   "execution_count": 2,
   "id": "1ede81a4",
   "metadata": {},
   "outputs": [],
   "source": [
    "eco = pd.read_csv('ecommerce.csv')"
   ]
  },
  {
   "cell_type": "code",
   "execution_count": 3,
   "id": "2d6c3210",
   "metadata": {
    "scrolled": true
   },
   "outputs": [
    {
     "data": {
      "text/html": [
       "<div>\n",
       "<style scoped>\n",
       "    .dataframe tbody tr th:only-of-type {\n",
       "        vertical-align: middle;\n",
       "    }\n",
       "\n",
       "    .dataframe tbody tr th {\n",
       "        vertical-align: top;\n",
       "    }\n",
       "\n",
       "    .dataframe thead th {\n",
       "        text-align: right;\n",
       "    }\n",
       "</style>\n",
       "<table border=\"1\" class=\"dataframe\">\n",
       "  <thead>\n",
       "    <tr style=\"text-align: right;\">\n",
       "      <th></th>\n",
       "      <th>Order ID</th>\n",
       "      <th>Order Date</th>\n",
       "      <th>Ship Date</th>\n",
       "      <th>Aging</th>\n",
       "      <th>Ship Mode</th>\n",
       "      <th>Product Category</th>\n",
       "      <th>Product</th>\n",
       "      <th>Sales</th>\n",
       "      <th>Quantity</th>\n",
       "      <th>Discount</th>\n",
       "      <th>...</th>\n",
       "      <th>Shipping Cost</th>\n",
       "      <th>Order Priority</th>\n",
       "      <th>Customer ID</th>\n",
       "      <th>Customer Name</th>\n",
       "      <th>Segment</th>\n",
       "      <th>City</th>\n",
       "      <th>State</th>\n",
       "      <th>Country</th>\n",
       "      <th>Region</th>\n",
       "      <th>Months</th>\n",
       "    </tr>\n",
       "  </thead>\n",
       "  <tbody>\n",
       "    <tr>\n",
       "      <th>0</th>\n",
       "      <td>AU-2015-1</td>\n",
       "      <td>11/9/15</td>\n",
       "      <td>11/17/15</td>\n",
       "      <td>8.0</td>\n",
       "      <td>First Class</td>\n",
       "      <td>Auto &amp; Accessories</td>\n",
       "      <td>Car Media Players</td>\n",
       "      <td>$140.00</td>\n",
       "      <td>2</td>\n",
       "      <td>0.05</td>\n",
       "      <td>...</td>\n",
       "      <td>$4.60</td>\n",
       "      <td>Medium</td>\n",
       "      <td>LS-001</td>\n",
       "      <td>Lane Daniels</td>\n",
       "      <td>Consumer</td>\n",
       "      <td>Brisbane</td>\n",
       "      <td>Queensland</td>\n",
       "      <td>Australia</td>\n",
       "      <td>Oceania</td>\n",
       "      <td>Nov</td>\n",
       "    </tr>\n",
       "    <tr>\n",
       "      <th>1</th>\n",
       "      <td>AU-2015-2</td>\n",
       "      <td>6/30/15</td>\n",
       "      <td>7/2/15</td>\n",
       "      <td>2.0</td>\n",
       "      <td>First Class</td>\n",
       "      <td>Auto &amp; Accessories</td>\n",
       "      <td>Car Speakers</td>\n",
       "      <td>$211.00</td>\n",
       "      <td>3</td>\n",
       "      <td>0.03</td>\n",
       "      <td>...</td>\n",
       "      <td>$11.20</td>\n",
       "      <td>Medium</td>\n",
       "      <td>IZ-002</td>\n",
       "      <td>Alvarado Kriz</td>\n",
       "      <td>Home Office</td>\n",
       "      <td>Berlin</td>\n",
       "      <td>Berlin</td>\n",
       "      <td>Germany</td>\n",
       "      <td>Central</td>\n",
       "      <td>Jun</td>\n",
       "    </tr>\n",
       "    <tr>\n",
       "      <th>2</th>\n",
       "      <td>AU-2015-3</td>\n",
       "      <td>12/5/15</td>\n",
       "      <td>12/13/15</td>\n",
       "      <td>8.0</td>\n",
       "      <td>First Class</td>\n",
       "      <td>Auto &amp; Accessories</td>\n",
       "      <td>Car Body Covers</td>\n",
       "      <td>$117.00</td>\n",
       "      <td>5</td>\n",
       "      <td>0.01</td>\n",
       "      <td>...</td>\n",
       "      <td>$3.10</td>\n",
       "      <td>Critical</td>\n",
       "      <td>EN-003</td>\n",
       "      <td>Moon Weien</td>\n",
       "      <td>Consumer</td>\n",
       "      <td>Porirua</td>\n",
       "      <td>Wellington</td>\n",
       "      <td>New Zealand</td>\n",
       "      <td>Oceania</td>\n",
       "      <td>Dec</td>\n",
       "    </tr>\n",
       "    <tr>\n",
       "      <th>3</th>\n",
       "      <td>AU-2015-4</td>\n",
       "      <td>5/9/15</td>\n",
       "      <td>5/16/15</td>\n",
       "      <td>7.0</td>\n",
       "      <td>First Class</td>\n",
       "      <td>Auto &amp; Accessories</td>\n",
       "      <td>Car &amp; Bike Care</td>\n",
       "      <td>$118.00</td>\n",
       "      <td>2</td>\n",
       "      <td>0.05</td>\n",
       "      <td>...</td>\n",
       "      <td>$2.60</td>\n",
       "      <td>High</td>\n",
       "      <td>AN-004</td>\n",
       "      <td>Sanchez Bergman</td>\n",
       "      <td>Corporate</td>\n",
       "      <td>Kabul</td>\n",
       "      <td>Kabul</td>\n",
       "      <td>Afghanistan</td>\n",
       "      <td>Central Asia</td>\n",
       "      <td>May</td>\n",
       "    </tr>\n",
       "    <tr>\n",
       "      <th>4</th>\n",
       "      <td>AU-2015-5</td>\n",
       "      <td>7/9/15</td>\n",
       "      <td>7/18/15</td>\n",
       "      <td>9.0</td>\n",
       "      <td>First Class</td>\n",
       "      <td>Auto &amp; Accessories</td>\n",
       "      <td>Tyre</td>\n",
       "      <td>$250.00</td>\n",
       "      <td>1</td>\n",
       "      <td>0.04</td>\n",
       "      <td>...</td>\n",
       "      <td>$16.00</td>\n",
       "      <td>Critical</td>\n",
       "      <td>ON-005</td>\n",
       "      <td>Rowe Jackson</td>\n",
       "      <td>Corporate</td>\n",
       "      <td>Townsville</td>\n",
       "      <td>Queensland</td>\n",
       "      <td>Australia</td>\n",
       "      <td>Oceania</td>\n",
       "      <td>Jul</td>\n",
       "    </tr>\n",
       "  </tbody>\n",
       "</table>\n",
       "<p>5 rows × 21 columns</p>\n",
       "</div>"
      ],
      "text/plain": [
       "    Order ID Order Date Ship Date  Aging    Ship Mode    Product Category  \\\n",
       "0  AU-2015-1    11/9/15  11/17/15    8.0  First Class  Auto & Accessories   \n",
       "1  AU-2015-2    6/30/15    7/2/15    2.0  First Class  Auto & Accessories   \n",
       "2  AU-2015-3    12/5/15  12/13/15    8.0  First Class  Auto & Accessories   \n",
       "3  AU-2015-4     5/9/15   5/16/15    7.0  First Class  Auto & Accessories   \n",
       "4  AU-2015-5     7/9/15   7/18/15    9.0  First Class  Auto & Accessories   \n",
       "\n",
       "             Product     Sales Quantity Discount  ... Shipping Cost  \\\n",
       "0  Car Media Players  $140.00         2     0.05  ...        $4.60    \n",
       "1       Car Speakers  $211.00         3     0.03  ...       $11.20    \n",
       "2    Car Body Covers  $117.00         5     0.01  ...        $3.10    \n",
       "3    Car & Bike Care  $118.00         2     0.05  ...        $2.60    \n",
       "4               Tyre  $250.00         1     0.04  ...       $16.00    \n",
       "\n",
       "  Order Priority Customer ID    Customer Name      Segment        City  \\\n",
       "0         Medium      LS-001     Lane Daniels     Consumer    Brisbane   \n",
       "1         Medium      IZ-002    Alvarado Kriz  Home Office      Berlin   \n",
       "2       Critical      EN-003       Moon Weien     Consumer     Porirua   \n",
       "3           High      AN-004  Sanchez Bergman    Corporate       Kabul   \n",
       "4       Critical      ON-005     Rowe Jackson    Corporate  Townsville   \n",
       "\n",
       "        State      Country        Region Months  \n",
       "0  Queensland    Australia       Oceania    Nov  \n",
       "1      Berlin      Germany       Central    Jun  \n",
       "2  Wellington  New Zealand       Oceania    Dec  \n",
       "3       Kabul  Afghanistan  Central Asia    May  \n",
       "4  Queensland    Australia       Oceania    Jul  \n",
       "\n",
       "[5 rows x 21 columns]"
      ]
     },
     "execution_count": 3,
     "metadata": {},
     "output_type": "execute_result"
    }
   ],
   "source": [
    "eco.head()"
   ]
  },
  {
   "cell_type": "code",
   "execution_count": 4,
   "id": "f3379277",
   "metadata": {
    "scrolled": false
   },
   "outputs": [
    {
     "data": {
      "text/plain": [
       "Index(['Order ID', 'Order Date', 'Ship Date', 'Aging', 'Ship Mode',\n",
       "       'Product Category', 'Product', 'Sales', 'Quantity', 'Discount',\n",
       "       'Profit', 'Shipping Cost', 'Order Priority', 'Customer ID',\n",
       "       'Customer Name', 'Segment', 'City', 'State', 'Country', 'Region',\n",
       "       'Months'],\n",
       "      dtype='object')"
      ]
     },
     "execution_count": 4,
     "metadata": {},
     "output_type": "execute_result"
    }
   ],
   "source": [
    "eco.columns"
   ]
  },
  {
   "cell_type": "code",
   "execution_count": null,
   "id": "f9ecc5dd",
   "metadata": {},
   "outputs": [],
   "source": []
  },
  {
   "cell_type": "markdown",
   "id": "82c71779",
   "metadata": {},
   "source": [
    "## Data Overview\n"
   ]
  },
  {
   "cell_type": "code",
   "execution_count": 5,
   "id": "3a2b6367",
   "metadata": {},
   "outputs": [
    {
     "name": "stdout",
     "output_type": "stream",
     "text": [
      "<class 'pandas.core.frame.DataFrame'>\n",
      "RangeIndex: 51290 entries, 0 to 51289\n",
      "Data columns (total 21 columns):\n",
      " #   Column            Non-Null Count  Dtype  \n",
      "---  ------            --------------  -----  \n",
      " 0   Order ID          51290 non-null  object \n",
      " 1   Order Date        51289 non-null  object \n",
      " 2   Ship Date         51290 non-null  object \n",
      " 3   Aging             51289 non-null  float64\n",
      " 4   Ship Mode         51290 non-null  object \n",
      " 5   Product Category  51290 non-null  object \n",
      " 6   Product           51290 non-null  object \n",
      " 7   Sales             51290 non-null  object \n",
      " 8   Quantity          51289 non-null  object \n",
      " 9   Discount          51290 non-null  object \n",
      " 10  Profit            51290 non-null  object \n",
      " 11  Shipping Cost     51290 non-null  object \n",
      " 12  Order Priority    51288 non-null  object \n",
      " 13  Customer ID       51289 non-null  object \n",
      " 14  Customer Name     51290 non-null  object \n",
      " 15  Segment           51289 non-null  object \n",
      " 16  City              51290 non-null  object \n",
      " 17  State             51290 non-null  object \n",
      " 18  Country           51290 non-null  object \n",
      " 19  Region            51289 non-null  object \n",
      " 20  Months            51290 non-null  object \n",
      "dtypes: float64(1), object(20)\n",
      "memory usage: 8.2+ MB\n"
     ]
    }
   ],
   "source": [
    "eco.info()"
   ]
  },
  {
   "cell_type": "code",
   "execution_count": 6,
   "id": "e1f3ddd7",
   "metadata": {
    "scrolled": true
   },
   "outputs": [
    {
     "data": {
      "text/plain": [
       "Order ID             object\n",
       "Order Date           object\n",
       "Ship Date            object\n",
       "Aging               float64\n",
       "Ship Mode            object\n",
       "Product Category     object\n",
       "Product              object\n",
       "Sales                object\n",
       "Quantity             object\n",
       "Discount             object\n",
       "Profit               object\n",
       "Shipping Cost        object\n",
       "Order Priority       object\n",
       "Customer ID          object\n",
       "Customer Name        object\n",
       "Segment              object\n",
       "City                 object\n",
       "State                object\n",
       "Country              object\n",
       "Region               object\n",
       "Months               object\n",
       "dtype: object"
      ]
     },
     "execution_count": 6,
     "metadata": {},
     "output_type": "execute_result"
    }
   ],
   "source": [
    "eco.dtypes"
   ]
  },
  {
   "cell_type": "markdown",
   "id": "7505bbef",
   "metadata": {},
   "source": [
    "## Handling the data and convert from object to float"
   ]
  },
  {
   "cell_type": "code",
   "execution_count": 7,
   "id": "eb594749",
   "metadata": {},
   "outputs": [],
   "source": [
    "eco['Sales'] = eco['Sales'].str.replace('$',\"\")"
   ]
  },
  {
   "cell_type": "code",
   "execution_count": 8,
   "id": "cb8c99b8",
   "metadata": {},
   "outputs": [],
   "source": [
    "eco=eco[eco.Sales != (\"0.xf\")] "
   ]
  },
  {
   "cell_type": "code",
   "execution_count": 9,
   "id": "a1c453d2",
   "metadata": {},
   "outputs": [],
   "source": [
    "eco=eco[eco.Sales != ('0.5.26') ] "
   ]
  },
  {
   "cell_type": "code",
   "execution_count": 10,
   "id": "1372e906",
   "metadata": {},
   "outputs": [],
   "source": [
    "eco['Sales'] = eco['Sales'].astype(float)"
   ]
  },
  {
   "cell_type": "code",
   "execution_count": 11,
   "id": "5c287d47",
   "metadata": {},
   "outputs": [],
   "source": [
    "eco=eco[eco.Discount != ('xxx') ] "
   ]
  },
  {
   "cell_type": "code",
   "execution_count": 12,
   "id": "d4d56460",
   "metadata": {},
   "outputs": [],
   "source": [
    "eco=eco[eco.Discount != ('test') ] "
   ]
  },
  {
   "cell_type": "code",
   "execution_count": 13,
   "id": "5c4c29ac",
   "metadata": {},
   "outputs": [],
   "source": [
    "eco['Discount'] = eco['Discount'].astype(float)"
   ]
  },
  {
   "cell_type": "code",
   "execution_count": 14,
   "id": "343bb24b",
   "metadata": {},
   "outputs": [],
   "source": [
    "eco['Shipping Cost'] = eco['Shipping Cost'].str.replace('$',\"\")"
   ]
  },
  {
   "cell_type": "code",
   "execution_count": 15,
   "id": "a7f75b10",
   "metadata": {},
   "outputs": [],
   "source": [
    "eco=eco[eco ['Shipping Cost']!= ('test') ] "
   ]
  },
  {
   "cell_type": "code",
   "execution_count": 16,
   "id": "6ddf164f",
   "metadata": {},
   "outputs": [],
   "source": [
    "eco['Shipping Cost'] = eco['Shipping Cost'].astype(float)"
   ]
  },
  {
   "cell_type": "code",
   "execution_count": 17,
   "id": "a337ab89",
   "metadata": {},
   "outputs": [],
   "source": [
    "eco['Profit'] = eco['Profit'].str.replace('$',\"\")"
   ]
  },
  {
   "cell_type": "code",
   "execution_count": 18,
   "id": "e23a2b0e",
   "metadata": {},
   "outputs": [],
   "source": [
    "eco['Profit'] = eco['Profit'].astype(float)"
   ]
  },
  {
   "cell_type": "code",
   "execution_count": 19,
   "id": "5b24233b",
   "metadata": {},
   "outputs": [],
   "source": [
    "eco=eco[eco.Quantity != (\"abc\")] "
   ]
  },
  {
   "cell_type": "code",
   "execution_count": 20,
   "id": "2e7726f8",
   "metadata": {},
   "outputs": [],
   "source": [
    "eco['Quantity'] = eco['Quantity'].astype(float)"
   ]
  },
  {
   "cell_type": "code",
   "execution_count": 21,
   "id": "e5b18064",
   "metadata": {},
   "outputs": [],
   "source": [
    "eco['Order Date'] = pd.to_datetime(eco['Order Date'])"
   ]
  },
  {
   "cell_type": "code",
   "execution_count": 22,
   "id": "fab94ba0",
   "metadata": {},
   "outputs": [],
   "source": [
    "eco['Ship Date'] = pd.to_datetime(eco['Ship Date'])"
   ]
  },
  {
   "cell_type": "code",
   "execution_count": 23,
   "id": "3b729474",
   "metadata": {},
   "outputs": [
    {
     "data": {
      "text/plain": [
       "(51286, 21)"
      ]
     },
     "execution_count": 23,
     "metadata": {},
     "output_type": "execute_result"
    }
   ],
   "source": [
    "eco.shape "
   ]
  },
  {
   "cell_type": "code",
   "execution_count": 24,
   "id": "c9c51599",
   "metadata": {
    "scrolled": false
   },
   "outputs": [
    {
     "data": {
      "text/plain": [
       "Order ID                    object\n",
       "Order Date          datetime64[ns]\n",
       "Ship Date           datetime64[ns]\n",
       "Aging                      float64\n",
       "Ship Mode                   object\n",
       "Product Category            object\n",
       "Product                     object\n",
       "Sales                      float64\n",
       "Quantity                   float64\n",
       "Discount                   float64\n",
       "Profit                     float64\n",
       "Shipping Cost              float64\n",
       "Order Priority              object\n",
       "Customer ID                 object\n",
       "Customer Name               object\n",
       "Segment                     object\n",
       "City                        object\n",
       "State                       object\n",
       "Country                     object\n",
       "Region                      object\n",
       "Months                      object\n",
       "dtype: object"
      ]
     },
     "execution_count": 24,
     "metadata": {},
     "output_type": "execute_result"
    }
   ],
   "source": [
    "eco.dtypes"
   ]
  },
  {
   "cell_type": "markdown",
   "id": "d23cef0f",
   "metadata": {},
   "source": [
    "## Checking for NaN"
   ]
  },
  {
   "cell_type": "code",
   "execution_count": 25,
   "id": "8c2eacfe",
   "metadata": {},
   "outputs": [
    {
     "data": {
      "text/plain": [
       "Order ID            0\n",
       "Order Date          1\n",
       "Ship Date           0\n",
       "Aging               1\n",
       "Ship Mode           0\n",
       "Product Category    0\n",
       "Product             0\n",
       "Sales               0\n",
       "Quantity            1\n",
       "Discount            0\n",
       "Profit              0\n",
       "Shipping Cost       0\n",
       "Order Priority      2\n",
       "Customer ID         1\n",
       "Customer Name       0\n",
       "Segment             1\n",
       "City                0\n",
       "State               0\n",
       "Country             0\n",
       "Region              1\n",
       "Months              0\n",
       "dtype: int64"
      ]
     },
     "execution_count": 25,
     "metadata": {},
     "output_type": "execute_result"
    }
   ],
   "source": [
    "eco.isnull().sum()"
   ]
  },
  {
   "cell_type": "code",
   "execution_count": 26,
   "id": "784c8cdf",
   "metadata": {},
   "outputs": [],
   "source": [
    " eco['Aging'] = eco['Aging'].fillna(eco.Aging.mean()) # fill the null with the mean "
   ]
  },
  {
   "cell_type": "code",
   "execution_count": 27,
   "id": "ba2c7b75",
   "metadata": {},
   "outputs": [],
   "source": [
    "eco['Quantity'] = eco['Quantity'].fillna(eco.Quantity.mean())#fill the null with the mean "
   ]
  },
  {
   "cell_type": "code",
   "execution_count": 28,
   "id": "4ef1e666",
   "metadata": {},
   "outputs": [],
   "source": [
    "eco = eco.dropna()"
   ]
  },
  {
   "cell_type": "code",
   "execution_count": 29,
   "id": "05efdf59",
   "metadata": {},
   "outputs": [
    {
     "data": {
      "text/plain": [
       "(51280, 21)"
      ]
     },
     "execution_count": 29,
     "metadata": {},
     "output_type": "execute_result"
    }
   ],
   "source": [
    "eco.shape "
   ]
  },
  {
   "cell_type": "code",
   "execution_count": 30,
   "id": "77948e71",
   "metadata": {
    "scrolled": true
   },
   "outputs": [
    {
     "data": {
      "text/html": [
       "<div>\n",
       "<style scoped>\n",
       "    .dataframe tbody tr th:only-of-type {\n",
       "        vertical-align: middle;\n",
       "    }\n",
       "\n",
       "    .dataframe tbody tr th {\n",
       "        vertical-align: top;\n",
       "    }\n",
       "\n",
       "    .dataframe thead th {\n",
       "        text-align: right;\n",
       "    }\n",
       "</style>\n",
       "<table border=\"1\" class=\"dataframe\">\n",
       "  <thead>\n",
       "    <tr style=\"text-align: right;\">\n",
       "      <th></th>\n",
       "      <th>Order ID</th>\n",
       "      <th>Order Date</th>\n",
       "      <th>Ship Date</th>\n",
       "      <th>Aging</th>\n",
       "      <th>Ship Mode</th>\n",
       "      <th>Product Category</th>\n",
       "      <th>Product</th>\n",
       "      <th>Sales</th>\n",
       "      <th>Quantity</th>\n",
       "      <th>Discount</th>\n",
       "      <th>...</th>\n",
       "      <th>Shipping Cost</th>\n",
       "      <th>Order Priority</th>\n",
       "      <th>Customer ID</th>\n",
       "      <th>Customer Name</th>\n",
       "      <th>Segment</th>\n",
       "      <th>City</th>\n",
       "      <th>State</th>\n",
       "      <th>Country</th>\n",
       "      <th>Region</th>\n",
       "      <th>Months</th>\n",
       "    </tr>\n",
       "  </thead>\n",
       "  <tbody>\n",
       "    <tr>\n",
       "      <th>0</th>\n",
       "      <td>False</td>\n",
       "      <td>False</td>\n",
       "      <td>False</td>\n",
       "      <td>False</td>\n",
       "      <td>False</td>\n",
       "      <td>False</td>\n",
       "      <td>False</td>\n",
       "      <td>False</td>\n",
       "      <td>False</td>\n",
       "      <td>False</td>\n",
       "      <td>...</td>\n",
       "      <td>False</td>\n",
       "      <td>False</td>\n",
       "      <td>False</td>\n",
       "      <td>False</td>\n",
       "      <td>False</td>\n",
       "      <td>False</td>\n",
       "      <td>False</td>\n",
       "      <td>False</td>\n",
       "      <td>False</td>\n",
       "      <td>False</td>\n",
       "    </tr>\n",
       "    <tr>\n",
       "      <th>1</th>\n",
       "      <td>False</td>\n",
       "      <td>False</td>\n",
       "      <td>False</td>\n",
       "      <td>False</td>\n",
       "      <td>False</td>\n",
       "      <td>False</td>\n",
       "      <td>False</td>\n",
       "      <td>False</td>\n",
       "      <td>False</td>\n",
       "      <td>False</td>\n",
       "      <td>...</td>\n",
       "      <td>False</td>\n",
       "      <td>False</td>\n",
       "      <td>False</td>\n",
       "      <td>False</td>\n",
       "      <td>False</td>\n",
       "      <td>False</td>\n",
       "      <td>False</td>\n",
       "      <td>False</td>\n",
       "      <td>False</td>\n",
       "      <td>False</td>\n",
       "    </tr>\n",
       "    <tr>\n",
       "      <th>2</th>\n",
       "      <td>False</td>\n",
       "      <td>False</td>\n",
       "      <td>False</td>\n",
       "      <td>False</td>\n",
       "      <td>False</td>\n",
       "      <td>False</td>\n",
       "      <td>False</td>\n",
       "      <td>False</td>\n",
       "      <td>False</td>\n",
       "      <td>False</td>\n",
       "      <td>...</td>\n",
       "      <td>False</td>\n",
       "      <td>False</td>\n",
       "      <td>False</td>\n",
       "      <td>False</td>\n",
       "      <td>False</td>\n",
       "      <td>False</td>\n",
       "      <td>False</td>\n",
       "      <td>False</td>\n",
       "      <td>False</td>\n",
       "      <td>False</td>\n",
       "    </tr>\n",
       "    <tr>\n",
       "      <th>3</th>\n",
       "      <td>False</td>\n",
       "      <td>False</td>\n",
       "      <td>False</td>\n",
       "      <td>False</td>\n",
       "      <td>False</td>\n",
       "      <td>False</td>\n",
       "      <td>False</td>\n",
       "      <td>False</td>\n",
       "      <td>False</td>\n",
       "      <td>False</td>\n",
       "      <td>...</td>\n",
       "      <td>False</td>\n",
       "      <td>False</td>\n",
       "      <td>False</td>\n",
       "      <td>False</td>\n",
       "      <td>False</td>\n",
       "      <td>False</td>\n",
       "      <td>False</td>\n",
       "      <td>False</td>\n",
       "      <td>False</td>\n",
       "      <td>False</td>\n",
       "    </tr>\n",
       "    <tr>\n",
       "      <th>4</th>\n",
       "      <td>False</td>\n",
       "      <td>False</td>\n",
       "      <td>False</td>\n",
       "      <td>False</td>\n",
       "      <td>False</td>\n",
       "      <td>False</td>\n",
       "      <td>False</td>\n",
       "      <td>False</td>\n",
       "      <td>False</td>\n",
       "      <td>False</td>\n",
       "      <td>...</td>\n",
       "      <td>False</td>\n",
       "      <td>False</td>\n",
       "      <td>False</td>\n",
       "      <td>False</td>\n",
       "      <td>False</td>\n",
       "      <td>False</td>\n",
       "      <td>False</td>\n",
       "      <td>False</td>\n",
       "      <td>False</td>\n",
       "      <td>False</td>\n",
       "    </tr>\n",
       "    <tr>\n",
       "      <th>...</th>\n",
       "      <td>...</td>\n",
       "      <td>...</td>\n",
       "      <td>...</td>\n",
       "      <td>...</td>\n",
       "      <td>...</td>\n",
       "      <td>...</td>\n",
       "      <td>...</td>\n",
       "      <td>...</td>\n",
       "      <td>...</td>\n",
       "      <td>...</td>\n",
       "      <td>...</td>\n",
       "      <td>...</td>\n",
       "      <td>...</td>\n",
       "      <td>...</td>\n",
       "      <td>...</td>\n",
       "      <td>...</td>\n",
       "      <td>...</td>\n",
       "      <td>...</td>\n",
       "      <td>...</td>\n",
       "      <td>...</td>\n",
       "      <td>...</td>\n",
       "    </tr>\n",
       "    <tr>\n",
       "      <th>51285</th>\n",
       "      <td>False</td>\n",
       "      <td>False</td>\n",
       "      <td>False</td>\n",
       "      <td>False</td>\n",
       "      <td>False</td>\n",
       "      <td>False</td>\n",
       "      <td>False</td>\n",
       "      <td>False</td>\n",
       "      <td>False</td>\n",
       "      <td>False</td>\n",
       "      <td>...</td>\n",
       "      <td>False</td>\n",
       "      <td>False</td>\n",
       "      <td>False</td>\n",
       "      <td>False</td>\n",
       "      <td>False</td>\n",
       "      <td>False</td>\n",
       "      <td>False</td>\n",
       "      <td>False</td>\n",
       "      <td>False</td>\n",
       "      <td>False</td>\n",
       "    </tr>\n",
       "    <tr>\n",
       "      <th>51286</th>\n",
       "      <td>False</td>\n",
       "      <td>False</td>\n",
       "      <td>False</td>\n",
       "      <td>False</td>\n",
       "      <td>False</td>\n",
       "      <td>False</td>\n",
       "      <td>False</td>\n",
       "      <td>False</td>\n",
       "      <td>False</td>\n",
       "      <td>False</td>\n",
       "      <td>...</td>\n",
       "      <td>False</td>\n",
       "      <td>False</td>\n",
       "      <td>False</td>\n",
       "      <td>False</td>\n",
       "      <td>False</td>\n",
       "      <td>False</td>\n",
       "      <td>False</td>\n",
       "      <td>False</td>\n",
       "      <td>False</td>\n",
       "      <td>False</td>\n",
       "    </tr>\n",
       "    <tr>\n",
       "      <th>51287</th>\n",
       "      <td>False</td>\n",
       "      <td>False</td>\n",
       "      <td>False</td>\n",
       "      <td>False</td>\n",
       "      <td>False</td>\n",
       "      <td>False</td>\n",
       "      <td>False</td>\n",
       "      <td>False</td>\n",
       "      <td>False</td>\n",
       "      <td>False</td>\n",
       "      <td>...</td>\n",
       "      <td>False</td>\n",
       "      <td>False</td>\n",
       "      <td>False</td>\n",
       "      <td>False</td>\n",
       "      <td>False</td>\n",
       "      <td>False</td>\n",
       "      <td>False</td>\n",
       "      <td>False</td>\n",
       "      <td>False</td>\n",
       "      <td>False</td>\n",
       "    </tr>\n",
       "    <tr>\n",
       "      <th>51288</th>\n",
       "      <td>False</td>\n",
       "      <td>False</td>\n",
       "      <td>False</td>\n",
       "      <td>False</td>\n",
       "      <td>False</td>\n",
       "      <td>False</td>\n",
       "      <td>False</td>\n",
       "      <td>False</td>\n",
       "      <td>False</td>\n",
       "      <td>False</td>\n",
       "      <td>...</td>\n",
       "      <td>False</td>\n",
       "      <td>False</td>\n",
       "      <td>False</td>\n",
       "      <td>False</td>\n",
       "      <td>False</td>\n",
       "      <td>False</td>\n",
       "      <td>False</td>\n",
       "      <td>False</td>\n",
       "      <td>False</td>\n",
       "      <td>False</td>\n",
       "    </tr>\n",
       "    <tr>\n",
       "      <th>51289</th>\n",
       "      <td>False</td>\n",
       "      <td>False</td>\n",
       "      <td>False</td>\n",
       "      <td>False</td>\n",
       "      <td>False</td>\n",
       "      <td>False</td>\n",
       "      <td>False</td>\n",
       "      <td>False</td>\n",
       "      <td>False</td>\n",
       "      <td>False</td>\n",
       "      <td>...</td>\n",
       "      <td>False</td>\n",
       "      <td>False</td>\n",
       "      <td>False</td>\n",
       "      <td>False</td>\n",
       "      <td>False</td>\n",
       "      <td>False</td>\n",
       "      <td>False</td>\n",
       "      <td>False</td>\n",
       "      <td>False</td>\n",
       "      <td>False</td>\n",
       "    </tr>\n",
       "  </tbody>\n",
       "</table>\n",
       "<p>51280 rows × 21 columns</p>\n",
       "</div>"
      ],
      "text/plain": [
       "       Order ID  Order Date  Ship Date  Aging  Ship Mode  Product Category  \\\n",
       "0         False       False      False  False      False             False   \n",
       "1         False       False      False  False      False             False   \n",
       "2         False       False      False  False      False             False   \n",
       "3         False       False      False  False      False             False   \n",
       "4         False       False      False  False      False             False   \n",
       "...         ...         ...        ...    ...        ...               ...   \n",
       "51285     False       False      False  False      False             False   \n",
       "51286     False       False      False  False      False             False   \n",
       "51287     False       False      False  False      False             False   \n",
       "51288     False       False      False  False      False             False   \n",
       "51289     False       False      False  False      False             False   \n",
       "\n",
       "       Product  Sales  Quantity  Discount  ...  Shipping Cost  Order Priority  \\\n",
       "0        False  False     False     False  ...          False           False   \n",
       "1        False  False     False     False  ...          False           False   \n",
       "2        False  False     False     False  ...          False           False   \n",
       "3        False  False     False     False  ...          False           False   \n",
       "4        False  False     False     False  ...          False           False   \n",
       "...        ...    ...       ...       ...  ...            ...             ...   \n",
       "51285    False  False     False     False  ...          False           False   \n",
       "51286    False  False     False     False  ...          False           False   \n",
       "51287    False  False     False     False  ...          False           False   \n",
       "51288    False  False     False     False  ...          False           False   \n",
       "51289    False  False     False     False  ...          False           False   \n",
       "\n",
       "       Customer ID  Customer Name  Segment   City  State  Country  Region  \\\n",
       "0            False          False    False  False  False    False   False   \n",
       "1            False          False    False  False  False    False   False   \n",
       "2            False          False    False  False  False    False   False   \n",
       "3            False          False    False  False  False    False   False   \n",
       "4            False          False    False  False  False    False   False   \n",
       "...            ...            ...      ...    ...    ...      ...     ...   \n",
       "51285        False          False    False  False  False    False   False   \n",
       "51286        False          False    False  False  False    False   False   \n",
       "51287        False          False    False  False  False    False   False   \n",
       "51288        False          False    False  False  False    False   False   \n",
       "51289        False          False    False  False  False    False   False   \n",
       "\n",
       "       Months  \n",
       "0       False  \n",
       "1       False  \n",
       "2       False  \n",
       "3       False  \n",
       "4       False  \n",
       "...       ...  \n",
       "51285   False  \n",
       "51286   False  \n",
       "51287   False  \n",
       "51288   False  \n",
       "51289   False  \n",
       "\n",
       "[51280 rows x 21 columns]"
      ]
     },
     "execution_count": 30,
     "metadata": {},
     "output_type": "execute_result"
    }
   ],
   "source": [
    "eco.isnull()"
   ]
  },
  {
   "cell_type": "markdown",
   "id": "3f7718dc",
   "metadata": {},
   "source": [
    "## Checking for duplicates"
   ]
  },
  {
   "cell_type": "code",
   "execution_count": 31,
   "id": "989a4d05",
   "metadata": {
    "scrolled": false
   },
   "outputs": [
    {
     "name": "stdout",
     "output_type": "stream",
     "text": [
      "0        False\n",
      "1        False\n",
      "2        False\n",
      "3        False\n",
      "4        False\n",
      "         ...  \n",
      "51285    False\n",
      "51286    False\n",
      "51287    False\n",
      "51288    False\n",
      "51289    False\n",
      "Length: 51280, dtype: bool\n"
     ]
    }
   ],
   "source": [
    "print(eco.duplicated()) "
   ]
  },
  {
   "cell_type": "markdown",
   "id": "af610ecc",
   "metadata": {},
   "source": [
    "## Check for Outliers (Boxplot)"
   ]
  },
  {
   "cell_type": "code",
   "execution_count": 32,
   "id": "4c1a42d3",
   "metadata": {
    "scrolled": true
   },
   "outputs": [
    {
     "data": {
      "image/png": "[encoded data removed]",
      "text/plain": [
       "<Figure size 432x288 with 1 Axes>"
      ]
     },
     "metadata": {
      "needs_background": "light"
     },
     "output_type": "display_data"
    }
   ],
   "source": [
    "sns.boxplot(data=eco);\n"
   ]
  },
  {
   "cell_type": "code",
   "execution_count": 33,
   "id": "a2518063",
   "metadata": {},
   "outputs": [
    {
     "data": {
      "text/plain": [
       "Standard Class    30775\n",
       "Second Class      10309\n",
       "First Class        7494\n",
       "Same Day           2701\n",
       "45788                 1\n",
       "Name: Ship Mode, dtype: int64"
      ]
     },
     "execution_count": 33,
     "metadata": {},
     "output_type": "execute_result"
    }
   ],
   "source": [
    " eco['Ship Mode'].value_counts()"
   ]
  },
  {
   "cell_type": "code",
   "execution_count": 34,
   "id": "09f64695",
   "metadata": {},
   "outputs": [],
   "source": [
    "eco=eco[eco ['Ship Mode']!= ('45788') ] "
   ]
  },
  {
   "cell_type": "code",
   "execution_count": 35,
   "id": "7360adb4",
   "metadata": {
    "scrolled": false
   },
   "outputs": [
    {
     "data": {
      "text/html": [
       "<div>\n",
       "<style scoped>\n",
       "    .dataframe tbody tr th:only-of-type {\n",
       "        vertical-align: middle;\n",
       "    }\n",
       "\n",
       "    .dataframe tbody tr th {\n",
       "        vertical-align: top;\n",
       "    }\n",
       "\n",
       "    .dataframe thead th {\n",
       "        text-align: right;\n",
       "    }\n",
       "</style>\n",
       "<table border=\"1\" class=\"dataframe\">\n",
       "  <thead>\n",
       "    <tr style=\"text-align: right;\">\n",
       "      <th></th>\n",
       "      <th>Aging</th>\n",
       "      <th>Sales</th>\n",
       "      <th>Quantity</th>\n",
       "      <th>Discount</th>\n",
       "      <th>Profit</th>\n",
       "      <th>Shipping Cost</th>\n",
       "    </tr>\n",
       "  </thead>\n",
       "  <tbody>\n",
       "    <tr>\n",
       "      <th>count</th>\n",
       "      <td>51279.00</td>\n",
       "      <td>51279.00</td>\n",
       "      <td>51279.00</td>\n",
       "      <td>51279.00</td>\n",
       "      <td>51279.00</td>\n",
       "      <td>51279.00</td>\n",
       "    </tr>\n",
       "    <tr>\n",
       "      <th>mean</th>\n",
       "      <td>5.26</td>\n",
       "      <td>156.43</td>\n",
       "      <td>3.00</td>\n",
       "      <td>0.03</td>\n",
       "      <td>72.72</td>\n",
       "      <td>7.27</td>\n",
       "    </tr>\n",
       "    <tr>\n",
       "      <th>std</th>\n",
       "      <td>2.96</td>\n",
       "      <td>65.78</td>\n",
       "      <td>1.41</td>\n",
       "      <td>0.01</td>\n",
       "      <td>49.10</td>\n",
       "      <td>4.91</td>\n",
       "    </tr>\n",
       "    <tr>\n",
       "      <th>min</th>\n",
       "      <td>1.00</td>\n",
       "      <td>33.00</td>\n",
       "      <td>1.00</td>\n",
       "      <td>0.01</td>\n",
       "      <td>0.50</td>\n",
       "      <td>0.10</td>\n",
       "    </tr>\n",
       "    <tr>\n",
       "      <th>25%</th>\n",
       "      <td>3.00</td>\n",
       "      <td>109.00</td>\n",
       "      <td>2.00</td>\n",
       "      <td>0.02</td>\n",
       "      <td>25.70</td>\n",
       "      <td>2.60</td>\n",
       "    </tr>\n",
       "    <tr>\n",
       "      <th>50%</th>\n",
       "      <td>5.00</td>\n",
       "      <td>159.00</td>\n",
       "      <td>3.00</td>\n",
       "      <td>0.03</td>\n",
       "      <td>67.00</td>\n",
       "      <td>6.70</td>\n",
       "    </tr>\n",
       "    <tr>\n",
       "      <th>75%</th>\n",
       "      <td>8.00</td>\n",
       "      <td>218.00</td>\n",
       "      <td>4.00</td>\n",
       "      <td>0.04</td>\n",
       "      <td>120.60</td>\n",
       "      <td>12.10</td>\n",
       "    </tr>\n",
       "    <tr>\n",
       "      <th>max</th>\n",
       "      <td>10.50</td>\n",
       "      <td>250.00</td>\n",
       "      <td>5.00</td>\n",
       "      <td>0.05</td>\n",
       "      <td>167.50</td>\n",
       "      <td>16.80</td>\n",
       "    </tr>\n",
       "  </tbody>\n",
       "</table>\n",
       "</div>"
      ],
      "text/plain": [
       "          Aging     Sales  Quantity  Discount    Profit  Shipping Cost\n",
       "count  51279.00  51279.00  51279.00  51279.00  51279.00       51279.00\n",
       "mean       5.26    156.43      3.00      0.03     72.72           7.27\n",
       "std        2.96     65.78      1.41      0.01     49.10           4.91\n",
       "min        1.00     33.00      1.00      0.01      0.50           0.10\n",
       "25%        3.00    109.00      2.00      0.02     25.70           2.60\n",
       "50%        5.00    159.00      3.00      0.03     67.00           6.70\n",
       "75%        8.00    218.00      4.00      0.04    120.60          12.10\n",
       "max       10.50    250.00      5.00      0.05    167.50          16.80"
      ]
     },
     "execution_count": 35,
     "metadata": {},
     "output_type": "execute_result"
    }
   ],
   "source": [
    "eco.describe().round(2)"
   ]
  },
  {
   "cell_type": "markdown",
   "id": "3e7fe271",
   "metadata": {},
   "source": [
    " # Correlation "
   ]
  },
  {
   "cell_type": "code",
   "execution_count": 36,
   "id": "8274a5c8",
   "metadata": {},
   "outputs": [],
   "source": [
    "eco_subset = eco.loc[:, [\"Aging\",\"Sales\",\"Profit\",\"Quantity\",\"Shipping Cost\"]]"
   ]
  },
  {
   "cell_type": "code",
   "execution_count": 37,
   "id": "9fe89c83",
   "metadata": {
    "scrolled": false
   },
   "outputs": [
    {
     "data": {
      "text/html": [
       "<div>\n",
       "<style scoped>\n",
       "    .dataframe tbody tr th:only-of-type {\n",
       "        vertical-align: middle;\n",
       "    }\n",
       "\n",
       "    .dataframe tbody tr th {\n",
       "        vertical-align: top;\n",
       "    }\n",
       "\n",
       "    .dataframe thead th {\n",
       "        text-align: right;\n",
       "    }\n",
       "</style>\n",
       "<table border=\"1\" class=\"dataframe\">\n",
       "  <thead>\n",
       "    <tr style=\"text-align: right;\">\n",
       "      <th></th>\n",
       "      <th>Aging</th>\n",
       "      <th>Sales</th>\n",
       "      <th>Profit</th>\n",
       "      <th>Quantity</th>\n",
       "      <th>Shipping Cost</th>\n",
       "    </tr>\n",
       "  </thead>\n",
       "  <tbody>\n",
       "    <tr>\n",
       "      <th>Aging</th>\n",
       "      <td>1.000000</td>\n",
       "      <td>0.014862</td>\n",
       "      <td>0.015293</td>\n",
       "      <td>-0.002497</td>\n",
       "      <td>0.015207</td>\n",
       "    </tr>\n",
       "    <tr>\n",
       "      <th>Sales</th>\n",
       "      <td>0.014862</td>\n",
       "      <td>1.000000</td>\n",
       "      <td>0.921518</td>\n",
       "      <td>-0.000609</td>\n",
       "      <td>0.921268</td>\n",
       "    </tr>\n",
       "    <tr>\n",
       "      <th>Profit</th>\n",
       "      <td>0.015293</td>\n",
       "      <td>0.921518</td>\n",
       "      <td>1.000000</td>\n",
       "      <td>-0.176323</td>\n",
       "      <td>0.999982</td>\n",
       "    </tr>\n",
       "    <tr>\n",
       "      <th>Quantity</th>\n",
       "      <td>-0.002497</td>\n",
       "      <td>-0.000609</td>\n",
       "      <td>-0.176323</td>\n",
       "      <td>1.000000</td>\n",
       "      <td>-0.176657</td>\n",
       "    </tr>\n",
       "    <tr>\n",
       "      <th>Shipping Cost</th>\n",
       "      <td>0.015207</td>\n",
       "      <td>0.921268</td>\n",
       "      <td>0.999982</td>\n",
       "      <td>-0.176657</td>\n",
       "      <td>1.000000</td>\n",
       "    </tr>\n",
       "  </tbody>\n",
       "</table>\n",
       "</div>"
      ],
      "text/plain": [
       "                  Aging     Sales    Profit  Quantity  Shipping Cost\n",
       "Aging          1.000000  0.014862  0.015293 -0.002497       0.015207\n",
       "Sales          0.014862  1.000000  0.921518 -0.000609       0.921268\n",
       "Profit         0.015293  0.921518  1.000000 -0.176323       0.999982\n",
       "Quantity      -0.002497 -0.000609 -0.176323  1.000000      -0.176657\n",
       "Shipping Cost  0.015207  0.921268  0.999982 -0.176657       1.000000"
      ]
     },
     "execution_count": 37,
     "metadata": {},
     "output_type": "execute_result"
    }
   ],
   "source": [
    "eco_subset_corr = pd.DataFrame(np.corrcoef(eco_subset.T))\n",
    "eco_subset_corr.columns = [\"Aging\",\"Sales\",\"Profit\",\"Quantity\",\"Shipping Cost\"]\n",
    "\n",
    "eco_subset_corr.index = [\"Aging\",\"Sales\",\"Profit\",\"Quantity\",\"Shipping Cost\"]\n",
    "eco_subset_corr"
   ]
  },
  {
   "cell_type": "code",
   "execution_count": 38,
   "id": "503ffe72",
   "metadata": {
    "scrolled": false
   },
   "outputs": [
    {
     "data": {
      "image/png": "[encoded data removed]",
      "text/plain": [
       "<Figure size 432x288 with 2 Axes>"
      ]
     },
     "metadata": {
      "needs_background": "light"
     },
     "output_type": "display_data"
    }
   ],
   "source": [
    "#Correlation between columns of data\n",
    "corrheatmap=eco.corr()\n",
    "sns.heatmap(corrheatmap,annot=True)\n",
    "plt.show()"
   ]
  },
  {
   "cell_type": "code",
   "execution_count": 39,
   "id": "0bf8d4f3",
   "metadata": {},
   "outputs": [],
   "source": [
    "#sns.pairplot(eco)"
   ]
  },
  {
   "cell_type": "markdown",
   "id": "6f8ca4cc",
   "metadata": {},
   "source": [
    "## The relationship between sales and profits through visualization"
   ]
  },
  {
   "cell_type": "code",
   "execution_count": 40,
   "id": "cdc83258",
   "metadata": {},
   "outputs": [],
   "source": [
    "Sales_Norm = (eco_subset['Sales']-np.mean(eco_subset['Sales']))/np.std(eco_subset['Sales'])\n",
    "Profit_Norm = (eco_subset['Profit']-np.mean(eco_subset['Profit']))/np.std(eco_subset['Profit'])"
   ]
  },
  {
   "cell_type": "code",
   "execution_count": 41,
   "id": "18d62eab",
   "metadata": {
    "scrolled": false
   },
   "outputs": [
    {
     "data": {
      "image/png": "[encoded data removed]",
      "text/plain": [
       "<Figure size 576x576 with 1 Axes>"
      ]
     },
     "metadata": {
      "needs_background": "light"
     },
     "output_type": "display_data"
    }
   ],
   "source": [
    "#We note the logical relationship between sales and profits\n",
    "plt.figure(figsize=[8,8])\n",
    "plt.title(\"The relationship between sales and profits\")\n",
    "plt.scatter (x=Profit_Norm, y=Sales_Norm)\n",
    "plt.xlabel(\"Sales\")\n",
    "plt.ylabel(\"Profit\")\n",
    "plt.show()  "
   ]
  },
  {
   "cell_type": "markdown",
   "id": "b3e5a61e",
   "metadata": {},
   "source": [
    "## visualization data"
   ]
  },
  {
   "cell_type": "markdown",
   "id": "744d5db0",
   "metadata": {},
   "source": [
    "## What is the most used ship mode?"
   ]
  },
  {
   "cell_type": "code",
   "execution_count": 42,
   "id": "49c3f0b4",
   "metadata": {
    "scrolled": true
   },
   "outputs": [
    {
     "data": {
      "text/plain": [
       "Standard Class    30775\n",
       "Second Class      10309\n",
       "First Class        7494\n",
       "Same Day           2701\n",
       "Name: Ship Mode, dtype: int64"
      ]
     },
     "execution_count": 42,
     "metadata": {},
     "output_type": "execute_result"
    }
   ],
   "source": [
    " eco['Ship Mode'].value_counts()"
   ]
  },
  {
   "cell_type": "code",
   "execution_count": 43,
   "id": "3e523eff",
   "metadata": {
    "scrolled": false
   },
   "outputs": [
    {
     "data": {
      "text/plain": [
       "<Figure size 3600x720 with 0 Axes>"
      ]
     },
     "execution_count": 43,
     "metadata": {},
     "output_type": "execute_result"
    },
    {
     "data": {
      "image/png": "[encoded data removed]",
      "text/plain": [
       "<Figure size 360x360 with 1 Axes>"
      ]
     },
     "metadata": {
      "needs_background": "light"
     },
     "output_type": "display_data"
    },
    {
     "data": {
      "text/plain": [
       "<Figure size 3600x720 with 0 Axes>"
      ]
     },
     "metadata": {},
     "output_type": "display_data"
    }
   ],
   "source": [
    "#We note that the most used method is standard shipping\n",
    "sns.catplot(x='Ship Mode',kind='count', data=eco )\n",
    "plt.title('Shipping Methods')\n",
    "plt.figure(figsize=(50,10))"
   ]
  },
  {
   "cell_type": "markdown",
   "id": "1538a6b2",
   "metadata": {},
   "source": [
    "## what is the Top 10 Countries based Sales?"
   ]
  },
  {
   "cell_type": "code",
   "execution_count": 44,
   "id": "982ea104",
   "metadata": {},
   "outputs": [
    {
     "data": {
      "text/plain": [
       "United States    9993\n",
       "Australia        2836\n",
       "France           2826\n",
       "Mexico           2642\n",
       "Germany          2065\n",
       "                 ... \n",
       "Swaziland           2\n",
       "Burundi             2\n",
       "South Sudan         2\n",
       "Bahrain             2\n",
       "Chad                2\n",
       "Name: Country, Length: 147, dtype: int64"
      ]
     },
     "execution_count": 44,
     "metadata": {},
     "output_type": "execute_result"
    }
   ],
   "source": [
    " eco['Country'].value_counts()"
   ]
  },
  {
   "cell_type": "code",
   "execution_count": 45,
   "id": "4033ab26",
   "metadata": {
    "scrolled": false
   },
   "outputs": [
    {
     "data": {
      "text/plain": [
       "Text(0, 0.5, 'count')"
      ]
     },
     "execution_count": 45,
     "metadata": {},
     "output_type": "execute_result"
    },
    {
     "data": {
      "image/png": "[encoded data removed]",
      "text/plain": [
       "<Figure size 720x576 with 1 Axes>"
      ]
     },
     "metadata": {
      "needs_background": "light"
     },
     "output_type": "display_data"
    }
   ],
   "source": [
    "#United States got most of online shoppers followed by Australia and France\n",
    "\n",
    "top_10 = eco['Country'].value_counts()[:10]\n",
    "top_10.plot(kind='bar',figsize=(10,8))\n",
    "plt.title('Top 10 Countries based Sales') \n",
    "plt.xlabel(\"Country\")\n",
    "plt.ylabel(\"count\") "
   ]
  },
  {
   "cell_type": "markdown",
   "id": "e723be11",
   "metadata": {},
   "source": [
    "## Which Products Category people are showing interests in?"
   ]
  },
  {
   "cell_type": "code",
   "execution_count": 46,
   "id": "b35857a5",
   "metadata": {},
   "outputs": [
    {
     "data": {
      "text/plain": [
       "Sports Wear               2827\n",
       "Fossil Watch              2796\n",
       "Formal Shoes              2795\n",
       "Titak watch               2795\n",
       "Sneakers                  2795\n",
       "Casula Shoes              2795\n",
       "Suits                     2795\n",
       "Running Shoes             2795\n",
       "Jeans                     2794\n",
       "T - Shirts                2794\n",
       "Shirts                    2794\n",
       "Dinner Crockery           1053\n",
       "Sofas                     1029\n",
       "Dinning Tables            1029\n",
       "Shoe Rack                 1029\n",
       "Umbrellas                 1029\n",
       "Beds                      1029\n",
       "Bed Sheets                1028\n",
       "Towels                    1028\n",
       "Curtains                  1028\n",
       "Sofa Covers               1027\n",
       "Tyre                       890\n",
       "Car Pillow & Neck Rest     828\n",
       "Car & Bike Care            826\n",
       "Car Seat Covers            826\n",
       "Car Body Covers            826\n",
       "Bike Tyres                 825\n",
       "Car Mat                    825\n",
       "Car Media Players          825\n",
       "Car Speakers               823\n",
       "Speakers                   261\n",
       "LED                        224\n",
       "Mixer/Juicer               224\n",
       "LCD                        224\n",
       "Fans                       221\n",
       "Iron                       221\n",
       "Samsung Mobile             221\n",
       "Apple Laptop               221\n",
       "Mouse                      221\n",
       "Tablet                     221\n",
       "Watch                      221\n",
       "Keyboard                   221\n",
       "Name: Product, dtype: int64"
      ]
     },
     "execution_count": 46,
     "metadata": {},
     "output_type": "execute_result"
    }
   ],
   "source": [
    "eco['Product'].value_counts()"
   ]
  },
  {
   "cell_type": "code",
   "execution_count": 47,
   "id": "9cc74c0c",
   "metadata": {
    "scrolled": true
   },
   "outputs": [
    {
     "data": {
      "text/plain": [
       "Text(0, 0.5, 'count')"
      ]
     },
     "execution_count": 47,
     "metadata": {},
     "output_type": "execute_result"
    },
    {
     "data": {
      "image/png": "[encoded data removed]",
      "text/plain": [
       "<Figure size 720x720 with 1 Axes>"
      ]
     },
     "metadata": {
      "needs_background": "light"
     },
     "output_type": "display_data"
    }
   ],
   "source": [
    "#The best selling products are sports wear\n",
    "top = eco['Product'].value_counts()[:20]\n",
    "top.plot(kind='bar',figsize=(10,10))\n",
    "plt.title('Product Sold in Online Sale')\n",
    "plt.xlabel(\"Product\")\n",
    "plt.ylabel(\"count\")"
   ]
  },
  {
   "cell_type": "markdown",
   "id": "a76894d9",
   "metadata": {},
   "source": [
    "## What is the Top 10 Spending Customer?"
   ]
  },
  {
   "cell_type": "code",
   "execution_count": 48,
   "id": "3aa7ef34",
   "metadata": {
    "scrolled": true
   },
   "outputs": [
    {
     "data": {
      "text/plain": [
       "<AxesSubplot:title={'center':'Top 10 Spending Customer'}, xlabel='Customer ID', ylabel='Sales'>"
      ]
     },
     "execution_count": 48,
     "metadata": {},
     "output_type": "execute_result"
    },
    {
     "data": {
      "image/png": "[encoded data removed]",
      "text/plain": [
       "<Figure size 432x288 with 1 Axes>"
      ]
     },
     "metadata": {
      "needs_background": "light"
     },
     "output_type": "display_data"
    }
   ],
   "source": [
    "\n",
    "plt.xticks(rotation = 'vertical')\n",
    "plt.title('Top 10 Spending Customer');\n",
    "sns.barplot(y = 'Sales', x = 'Customer ID', data = eco.head(20), alpha = .5 )"
   ]
  },
  {
   "cell_type": "markdown",
   "id": "71257ced",
   "metadata": {},
   "source": [
    "## The Relationship between the product in store and the sales?"
   ]
  },
  {
   "cell_type": "code",
   "execution_count": 49,
   "id": "33d6c064",
   "metadata": {},
   "outputs": [
    {
     "data": {
      "text/plain": [
       "<AxesSubplot:title={'center':'Top 10 Spending Customer'}, xlabel='Aging', ylabel='Sales'>"
      ]
     },
     "execution_count": 49,
     "metadata": {},
     "output_type": "execute_result"
    },
    {
     "data": {
      "image/png": "[encoded data removed]",
      "text/plain": [
       "<Figure size 432x288 with 1 Axes>"
      ]
     },
     "metadata": {
      "needs_background": "light"
     },
     "output_type": "display_data"
    }
   ],
   "source": [
    "\n",
    "plt.xticks(rotation = 'vertical')\n",
    "plt.title('Top 10 Spending Customer');\n",
    "sns.barplot(y = 'Sales', x = 'Aging', data = eco.head(20), alpha = .5 )"
   ]
  }
 ],
 "metadata": {
  "kernelspec": {
   "display_name": "Python 3",
   "language": "python",
   "name": "python3"
  },
  "language_info": {
   "codemirror_mode": {
    "name": "ipython",
    "version": 3
   },
   "file_extension": ".py",
   "mimetype": "text/x-python",
   "name": "python",
   "nbconvert_exporter": "python",
   "pygments_lexer": "ipython3",
   "version": "3.8.8"
  }
 },
 "nbformat": 4,
 "nbformat_minor": 5
}
